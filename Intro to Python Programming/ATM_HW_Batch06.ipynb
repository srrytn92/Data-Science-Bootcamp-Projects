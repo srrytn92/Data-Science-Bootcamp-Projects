{
  "nbformat": 4,
  "nbformat_minor": 0,
  "metadata": {
    "colab": {
      "provenance": []
    },
    "kernelspec": {
      "name": "python3",
      "display_name": "Python 3"
    },
    "language_info": {
      "name": "python"
    }
  },
  "cells": [
    {
      "cell_type": "code",
      "execution_count": null,
      "metadata": {
        "id": "VgVDPKEx8Efk"
      },
      "outputs": [],
      "source": [
        "from ast import Break\n",
        "class ATM :\n",
        "  def __init__(self, name, balance, password) :\n",
        "    self.name = name\n",
        "    self.balance = balance\n",
        "    self.password = password\n",
        "\n",
        "  def login(self, pw) :\n",
        "    if pw == self.password :\n",
        "      print(f\"Welcome {self.name} your balance is {self.balance} THB.\")\n",
        "      print(\"1. Deposit\")\n",
        "      print(\"2. withdraw\")\n",
        "      print(\"3. transfer\")\n",
        "      print(\"4. Bill payment\")\n",
        "      menu = int(input(\"Please select menu : \"))\n",
        "      \n",
        "      if menu == 1 :\n",
        "        m_deposit = int(input(\"Your money deposit : \"))\n",
        "        atm1.deposit(m_deposit)\n",
        "\n",
        "      elif menu == 2 :\n",
        "        m_withdraw = int(input(\"Your money withdraw : \"))\n",
        "        atm1.withdraw(m_withdraw)\n",
        "\n",
        "      elif menu == 3 :\n",
        "        acc_name = input(\"Please enter the name of the destination account.\")\n",
        "        m_transfer = int(input(\"Your money transfer : \"))\n",
        "        atm1.transfer(acc_name, m_transfer)\n",
        "\n",
        "      elif menu == 4 :\n",
        "        bill_name = input(\"Please enter the name of the bill company.\")\n",
        "        m_bill = int(input(\"Your money bill payment : \"))\n",
        "        atm1.bill_pay(bill_name, m_bill)\n",
        "    else :\n",
        "      print(\"Your password is incorrect.\")\n",
        "      \n",
        "\n",
        "  def deposit(self, money) :\n",
        "    self.balance += money\n",
        "    print(f\"Deposit {money} THB.\")\n",
        "    print(f\"New balance:{self.balance} THB.\")\n",
        "    print(\"Your deposit successfully\")\n",
        "\n",
        "  def withdraw(self, money) :\n",
        "    self.balance -= money\n",
        "    print(f\"Withdraw {money} THB.\")\n",
        "    print(f\"New balance {self.balance} THB.\")\n",
        "    print(\"Your withdraw successfully\")\n",
        "\n",
        "  def transfer(self, acc_dest, money) :\n",
        "    if money > self.balance :\n",
        "      print(\"Your balance not enought for transfer\")\n",
        "    else :\n",
        "      self.balance -= money\n",
        "      print(f\"Transfer to {acc_dest} amount {money} THB.\")\n",
        "      print(f\"New Balance: {self.balance} THB.\")\n",
        "      print(\"Your transfer successfully\")\n",
        "\n",
        "  def bill_pay(self, billing, money) :\n",
        "    if money > self.balance :\n",
        "      print(\"Your balance not enought for pay\")\n",
        "    else :\n",
        "      self.balance -= money\n",
        "      print(f\"Pay to {billing} amount {money} THB.\")\n",
        "      print(f\"New Balance: {self.balance} THB.\")\n",
        "      print(\"Your bill payment successfully\")"
      ]
    },
    {
      "cell_type": "markdown",
      "source": [
        "Register Account"
      ],
      "metadata": {
        "id": "T9Xk-L7Whv6l"
      }
    },
    {
      "cell_type": "code",
      "source": [
        "id = input(\"Your name : \")\n",
        "m_balance = int(input(\"Your balance : \"))\n",
        "y_pw = int(input(\"Your password : \"))\n",
        "\n",
        "atm1 = ATM(id, m_balance, y_pw)"
      ],
      "metadata": {
        "colab": {
          "base_uri": "https://localhost:8080/"
        },
        "id": "vwWV__MWhvbv",
        "outputId": "654732f5-5ae1-49ba-f9dc-766280242bac"
      },
      "execution_count": null,
      "outputs": [
        {
          "name": "stdout",
          "output_type": "stream",
          "text": [
            "Your name : yo\n",
            "Your balance : 5000\n",
            "Your password : 1234\n"
          ]
        }
      ]
    },
    {
      "cell_type": "markdown",
      "source": [
        "Login ATM"
      ],
      "metadata": {
        "id": "Yexryk2pi56A"
      }
    },
    {
      "cell_type": "code",
      "source": [
        "atm1.login(int(input(\"Your password : \")))"
      ],
      "metadata": {
        "colab": {
          "base_uri": "https://localhost:8080/"
        },
        "id": "JVSVPU_BjGMv",
        "outputId": "580a832f-473a-493b-d681-36470fed5f4c"
      },
      "execution_count": null,
      "outputs": [
        {
          "name": "stdout",
          "output_type": "stream",
          "text": [
            "Your password : 1234\n",
            "Welcome yo your balance is 4570 THB.\n",
            "1. Deposit\n",
            "2. withdraw\n",
            "3. transfer\n",
            "4. Bill payment\n",
            "Please select menu : 5\n"
          ]
        }
      ]
    }
  ]
}